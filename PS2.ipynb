{
 "cells": [
  {
   "cell_type": "code",
   "execution_count": 150,
   "id": "ed19f7dc",
   "metadata": {},
   "outputs": [],
   "source": [
    "import pandas as pd\n",
    "import numpy as np\n",
    "import netCDF4\n",
    "import xarray as xr\n",
    "import math\n",
    "from matplotlib import pyplot as plt\n",
    "%matplotlib inline"
   ]
  },
  {
   "cell_type": "code",
   "execution_count": 151,
   "id": "f350139e",
   "metadata": {},
   "outputs": [],
   "source": [
    "Sig_Eqs=pd.read_csv(r\"D:\\ESE5023\\earthquakes-2023-11-05_23-57-13_+0800.tsv\", sep='\\t')"
   ]
  },
  {
   "cell_type": "code",
   "execution_count": 152,
   "id": "f03a967f",
   "metadata": {},
   "outputs": [
    {
     "data": {
      "text/html": [
       "<div>\n",
       "<style scoped>\n",
       "    .dataframe tbody tr th:only-of-type {\n",
       "        vertical-align: middle;\n",
       "    }\n",
       "\n",
       "    .dataframe tbody tr th {\n",
       "        vertical-align: top;\n",
       "    }\n",
       "\n",
       "    .dataframe thead th {\n",
       "        text-align: right;\n",
       "    }\n",
       "</style>\n",
       "<table border=\"1\" class=\"dataframe\">\n",
       "  <thead>\n",
       "    <tr style=\"text-align: right;\">\n",
       "      <th></th>\n",
       "      <th>Country</th>\n",
       "      <th>Total Deaths</th>\n",
       "    </tr>\n",
       "  </thead>\n",
       "  <tbody>\n",
       "    <tr>\n",
       "      <th>0</th>\n",
       "      <td>CHINA</td>\n",
       "      <td>2041929.0</td>\n",
       "    </tr>\n",
       "    <tr>\n",
       "      <th>1</th>\n",
       "      <td>TURKEY</td>\n",
       "      <td>995648.0</td>\n",
       "    </tr>\n",
       "    <tr>\n",
       "      <th>2</th>\n",
       "      <td>IRAN</td>\n",
       "      <td>758650.0</td>\n",
       "    </tr>\n",
       "    <tr>\n",
       "      <th>3</th>\n",
       "      <td>SYRIA</td>\n",
       "      <td>437700.0</td>\n",
       "    </tr>\n",
       "    <tr>\n",
       "      <th>4</th>\n",
       "      <td>ITALY</td>\n",
       "      <td>422679.0</td>\n",
       "    </tr>\n",
       "    <tr>\n",
       "      <th>5</th>\n",
       "      <td>JAPAN</td>\n",
       "      <td>356083.0</td>\n",
       "    </tr>\n",
       "    <tr>\n",
       "      <th>6</th>\n",
       "      <td>HAITI</td>\n",
       "      <td>323776.0</td>\n",
       "    </tr>\n",
       "    <tr>\n",
       "      <th>7</th>\n",
       "      <td>AZERBAIJAN</td>\n",
       "      <td>310119.0</td>\n",
       "    </tr>\n",
       "    <tr>\n",
       "      <th>8</th>\n",
       "      <td>INDONESIA</td>\n",
       "      <td>282819.0</td>\n",
       "    </tr>\n",
       "    <tr>\n",
       "      <th>9</th>\n",
       "      <td>ARMENIA</td>\n",
       "      <td>189000.0</td>\n",
       "    </tr>\n",
       "  </tbody>\n",
       "</table>\n",
       "</div>"
      ],
      "text/plain": [
       "      Country  Total Deaths\n",
       "0       CHINA     2041929.0\n",
       "1      TURKEY      995648.0\n",
       "2        IRAN      758650.0\n",
       "3       SYRIA      437700.0\n",
       "4       ITALY      422679.0\n",
       "5       JAPAN      356083.0\n",
       "6       HAITI      323776.0\n",
       "7  AZERBAIJAN      310119.0\n",
       "8   INDONESIA      282819.0\n",
       "9     ARMENIA      189000.0"
      ]
     },
     "execution_count": 152,
     "metadata": {},
     "output_type": "execute_result"
    }
   ],
   "source": [
    "#1.1\n",
    "#每个Country的Total Deaths求和\n",
    "Sig_Eqs_1=Sig_Eqs.groupby('Country')['Total Deaths'].sum().reset_index()\n",
    "#按Total Deaths的和降序排列，取前十，去掉原索引\n",
    "Sig_Eqs_1=Sig_Eqs_1.sort_values(by='Total Deaths',ascending=[False])[:10].reset_index(drop=True)\n",
    "Sig_Eqs_1"
   ]
  },
  {
   "cell_type": "code",
   "execution_count": 153,
   "id": "88d74a34",
   "metadata": {
    "scrolled": false
   },
   "outputs": [
    {
     "name": "stdout",
     "output_type": "stream",
     "text": [
      "Year\n",
      "-2150.0     1\n",
      "-2000.0     1\n",
      "-1250.0     1\n",
      "-1050.0     1\n",
      "-479.0      1\n",
      "           ..\n",
      " 2019.0    27\n",
      " 2020.0    15\n",
      " 2021.0    23\n",
      " 2022.0    20\n",
      " 2023.0    22\n",
      "Name: Mag, Length: 536, dtype: int64\n"
     ]
    },
    {
     "data": {
      "text/plain": [
       "<Axes: xlabel='Year'>"
      ]
     },
     "execution_count": 153,
     "metadata": {},
     "output_type": "execute_result"
    },
    {
     "data": {
      "image/png": "[encoded data removed]",
      "text/plain": [
       "<Figure size 640x480 with 1 Axes>"
      ]
     },
     "metadata": {},
     "output_type": "display_data"
    }
   ],
   "source": [
    "#1.2\n",
    "#筛选Mag>6.0的数据\n",
    "Sig_Eqs_2=Sig_Eqs.loc[Sig_Eqs['Mag']>6.0]\n",
    "#年份-该年内6级以上地震次数\n",
    "Sig_Eqs_2=Sig_Eqs_2.groupby('Year')['Mag'].count()\n",
    "print(Sig_Eqs_2)\n",
    "#根据年份画图\n",
    "Sig_Eqs_2.plot()\n",
    "#The trend is upward. There may be scientific and technological progress, rising population density and other reasons. Nowadays we have more perfect earthquake monitoring and recording than before."
   ]
  },
  {
   "cell_type": "code",
   "execution_count": 154,
   "id": "e2807cde",
   "metadata": {},
   "outputs": [],
   "source": [
    "#1.3\n",
    "def CountEq_LargestEq(Country_input):\n",
    "    \n",
    "    #每次开始时重新读一下数据（因为后面把NAN替换为0了，多次运行的时候会导致计数有误）\n",
    "    Sig_Eqs=pd.read_csv(r\"D:\\ESE5023\\earthquakes-2023-11-05_23-57-13_+0800.tsv\", sep='\\t')\n",
    "    a=Sig_Eqs.loc[Sig_Eqs['Country']==Country_input]['Mag']  \n",
    "    #地震计数\n",
    "    CountEq=a.count()\n",
    "\n",
    "    #找最大一次地震的行数\n",
    "    LargestEq_line=a.idxmax()\n",
    "    if pd.isnull(LargestEq_line)== True:\n",
    "        Date=\"No data\"\n",
    "    else:\n",
    "        \n",
    "        #找对应的时间\n",
    "        #处理没有“最大地震的时间”的数据\n",
    "        if np.isnan(LargestEq_line) == True:\n",
    "            Date=\"No data\"\n",
    "        else:  \n",
    "            #把NAN替换为0\n",
    "            Sig_Eqs.fillna(0, inplace=True)\n",
    "        \n",
    "            Year=int(Sig_Eqs.iloc[LargestEq_line,2])\n",
    "            Month=int(Sig_Eqs.iloc[LargestEq_line,3])\n",
    "            Day=int(Sig_Eqs.iloc[LargestEq_line,4])\n",
    "        \n",
    "            #处理没有详细M、D时间记录的数据\n",
    "            if Month == 0:\n",
    "                Date=str(Year)\n",
    "            elif Day == 0:\n",
    "                Date=str(Year)+'-'+str(Month)\n",
    "            else:\n",
    "                Date=str(Year)+'-'+str(Month)+'-'+str(Day)\n",
    "        \n",
    "    #输出Country_input、CountEq\n",
    "    print (str(Country_input)+': Total number of earthquakes: '+str(CountEq)+', Largest earthquake: '+str(Date))\n",
    "    \n",
    "    return CountEq"
   ]
  },
  {
   "cell_type": "code",
   "execution_count": 155,
   "id": "f47ca1aa",
   "metadata": {
    "scrolled": false
   },
   "outputs": [
    {
     "name": "stdout",
     "output_type": "stream",
     "text": [
      "AFGHANISTAN: Total number of earthquakes: 60, Largest earthquake: 1909-7-7\n",
      "ALBANIA: Total number of earthquakes: 35, Largest earthquake: 1893-6-14\n",
      "ALGERIA: Total number of earthquakes: 39, Largest earthquake: 1980-10-10\n",
      "ANTARCTICA: Total number of earthquakes: 5, Largest earthquake: 1998-3-25\n",
      "ANTIGUA AND BARBUDA: Total number of earthquakes: 2, Largest earthquake: 1690-4-16\n",
      "ARGENTINA: Total number of earthquakes: 17, Largest earthquake: 1944-1-15\n",
      "ARMENIA: Total number of earthquakes: 8, Largest earthquake: 1988-12-7\n",
      "ATLANTIC OCEAN: Total number of earthquakes: 5, Largest earthquake: 1941-11-25\n",
      "AUSTRALIA: Total number of earthquakes: 22, Largest earthquake: 1989-5-23\n",
      "AUSTRIA: Total number of earthquakes: 2, Largest earthquake: 1590-9-15\n",
      "AZERBAIJAN: Total number of earthquakes: 14, Largest earthquake: 1667-11\n",
      "AZORES (PORTUGAL): Total number of earthquakes: 10, Largest earthquake: 1968-2-28\n",
      "BANGLADESH: Total number of earthquakes: 15, Largest earthquake: 1918-7-8\n",
      "BARBADOS: Total number of earthquakes: 0, Largest earthquake: No data\n",
      "BELGIUM: Total number of earthquakes: 1, Largest earthquake: 1983-11-8\n",
      "BERING SEA: Total number of earthquakes: 1, Largest earthquake: 1991-2-21\n",
      "BHUTAN: Total number of earthquakes: 5, Largest earthquake: 2009-9-21\n",
      "BOLIVIA: Total number of earthquakes: 6, Largest earthquake: 1994-6-9\n",
      "BOSNIA-HERZEGOVINA: Total number of earthquakes: 9, Largest earthquake: 1969-10-27\n",
      "BRAZIL: Total number of earthquakes: 6, Largest earthquake: 1963-11-9\n",
      "BRITISH VIRGIN ISLANDS: Total number of earthquakes: 0, Largest earthquake: No data\n",
      "BULGARIA: Total number of earthquakes: 12, Largest earthquake: 1904-4-4\n",
      "BURUNDI: Total number of earthquakes: 1, Largest earthquake: 2004-2-24\n",
      "CAMEROON: Total number of earthquakes: 1, Largest earthquake: 1945-9-12\n",
      "CANADA: Total number of earthquakes: 15, Largest earthquake: 1949-8-22\n",
      "CANARY ISLANDS: Total number of earthquakes: 0, Largest earthquake: No data\n",
      "CENTRAL AFRICAN REPUBLIC: Total number of earthquakes: 1, Largest earthquake: 1921-9-16\n",
      "CHILE: Total number of earthquakes: 146, Largest earthquake: 1960-5-22\n",
      "CHINA: Total number of earthquakes: 589, Largest earthquake: 1668-7-25\n",
      "COLOMBIA: Total number of earthquakes: 66, Largest earthquake: 1826-6-18\n",
      "COMOROS: Total number of earthquakes: 1, Largest earthquake: 2018-5-15\n",
      "CONGO: Total number of earthquakes: 7, Largest earthquake: 1992-9-11\n",
      "COSTA RICA: Total number of earthquakes: 26, Largest earthquake: 1950-10-5\n",
      "COTE D'IVOIRE: Total number of earthquakes: 2, Largest earthquake: 1879-2-11\n",
      "CROATIA: Total number of earthquakes: 12, Largest earthquake: 1667-4-6\n",
      "CUBA: Total number of earthquakes: 6, Largest earthquake: 2020-1-28\n",
      "CYPRUS: Total number of earthquakes: 3, Largest earthquake: 1953-9-10\n",
      "CZECH REPUBLIC: Total number of earthquakes: 1, Largest earthquake: 2008-11-22\n",
      "DJIBOUTI: Total number of earthquakes: 1, Largest earthquake: 1989-8-20\n",
      "DOMINICAN REPUBLIC: Total number of earthquakes: 8, Largest earthquake: 1946-8-4\n",
      "ECUADOR: Total number of earthquakes: 57, Largest earthquake: 1906-1-31\n",
      "EGYPT: Total number of earthquakes: 7, Largest earthquake: 1995-11-22\n",
      "EL SALVADOR: Total number of earthquakes: 21, Largest earthquake: 1915-9-7\n",
      "ERITREA: Total number of earthquakes: 4, Largest earthquake: 1875-11-2\n",
      "ETHIOPIA: Total number of earthquakes: 7, Largest earthquake: 1906-8-25\n",
      "FIJI: Total number of earthquakes: 17, Largest earthquake: 1919-1-1\n",
      "FRANCE: Total number of earthquakes: 15, Largest earthquake: 1817-3-11\n",
      "FRENCH GUIANA: Total number of earthquakes: 1, Largest earthquake: 1885-8-4\n",
      "FRENCH POLYNESIA: Total number of earthquakes: 1, Largest earthquake: 1848-7-12\n",
      "GABON: Total number of earthquakes: 1, Largest earthquake: 1974-9-23\n",
      "GEORGIA: Total number of earthquakes: 15, Largest earthquake: 1905-10-21\n",
      "GERMANY: Total number of earthquakes: 5, Largest earthquake: 1978-9-3\n",
      "GHANA: Total number of earthquakes: 5, Largest earthquake: 1862-7-10\n",
      "GREECE: Total number of earthquakes: 155, Largest earthquake: 365-7-21\n",
      "GRENADA: Total number of earthquakes: 0, Largest earthquake: No data\n",
      "GUADELOUPE: Total number of earthquakes: 5, Largest earthquake: 1843-2-8\n",
      "GUATEMALA: Total number of earthquakes: 29, Largest earthquake: 1942-8-6\n",
      "GUINEA: Total number of earthquakes: 1, Largest earthquake: 1983-12-22\n",
      "HAITI: Total number of earthquakes: 10, Largest earthquake: 1842-5-7\n",
      "HONDURAS: Total number of earthquakes: 9, Largest earthquake: 1856-8-4\n",
      "HUNGARY: Total number of earthquakes: 5, Largest earthquake: 1834-10-15\n",
      "ICELAND: Total number of earthquakes: 6, Largest earthquake: 1912-5-6\n",
      "INDIA: Total number of earthquakes: 84, Largest earthquake: 1950-8-15\n",
      "INDIAN OCEAN: Total number of earthquakes: 3, Largest earthquake: 1928-3-9\n",
      "INDONESIA: Total number of earthquakes: 331, Largest earthquake: 2004-12-26\n",
      "IRAN: Total number of earthquakes: 259, Largest earthquake: 856-12-22\n",
      "IRAQ: Total number of earthquakes: 3, Largest earthquake: 1864-12-2\n",
      "IRELAND: Total number of earthquakes: 0, Largest earthquake: No data\n",
      "ISRAEL: Total number of earthquakes: 9, Largest earthquake: -31-9-2\n",
      "ITALY: Total number of earthquakes: 102, Largest earthquake: 1915-1-13\n",
      "JAMAICA: Total number of earthquakes: 3, Largest earthquake: 1899-6-14\n",
      "JAPAN: Total number of earthquakes: 351, Largest earthquake: 2011-3-11\n",
      "JORDAN: Total number of earthquakes: 5, Largest earthquake: -2150\n",
      "KAZAKHSTAN: Total number of earthquakes: 10, Largest earthquake: 1889-7-11\n",
      "KENYA: Total number of earthquakes: 2, Largest earthquake: 1928-1-6\n",
      "KERMADEC ISLANDS (NEW ZEALAND): Total number of earthquakes: 21, Largest earthquake: 1986-10-20\n",
      "KIRIBATI: Total number of earthquakes: 1, Largest earthquake: 1905-6-30\n",
      "KYRGYZSTAN: Total number of earthquakes: 14, Largest earthquake: 1946-11-2\n",
      "LAOS: Total number of earthquakes: 2, Largest earthquake: 2007-5-16\n",
      "LEBANON: Total number of earthquakes: 3, Largest earthquake: 551-7-9\n",
      "LIBYA: Total number of earthquakes: 1, Largest earthquake: 1963-2-21\n",
      "MACEDONIA: Total number of earthquakes: 7, Largest earthquake: 1979-5-24\n",
      "MADAGASCAR: Total number of earthquakes: 1, Largest earthquake: 2017-1-11\n",
      "MALAWI: Total number of earthquakes: 4, Largest earthquake: 1989-3-10\n",
      "MALAYSIA: Total number of earthquakes: 3, Largest earthquake: 1976-7-26\n",
      "MARTINIQUE: Total number of earthquakes: 3, Largest earthquake: 1906-12-3\n",
      "MEXICO: Total number of earthquakes: 128, Largest earthquake: 1899-1-24\n",
      "MICRONESIA, FED. STATES OF: Total number of earthquakes: 3, Largest earthquake: 1911-8-16\n",
      "MONGOLIA: Total number of earthquakes: 6, Largest earthquake: 1905-7-9\n",
      "MONTENEGRO: Total number of earthquakes: 5, Largest earthquake: 1979-4-15\n",
      "MONTSERRAT: Total number of earthquakes: 0, Largest earthquake: No data\n",
      "MOROCCO: Total number of earthquakes: 4, Largest earthquake: 2023-9-8\n",
      "MOZAMBIQUE: Total number of earthquakes: 3, Largest earthquake: 2006-2-22\n",
      "MYANMAR (BURMA): Total number of earthquakes: 25, Largest earthquake: 1912-5-23\n",
      "NEPAL: Total number of earthquakes: 17, Largest earthquake: 1505-6-6\n",
      "NETHERLANDS: Total number of earthquakes: 3, Largest earthquake: 1992-4-13\n",
      "NEW CALEDONIA: Total number of earthquakes: 25, Largest earthquake: 1875-3-28\n",
      "NEW ZEALAND: Total number of earthquakes: 65, Largest earthquake: 1826\n",
      "NICARAGUA: Total number of earthquakes: 27, Largest earthquake: 1898-4-29\n",
      "NORTH KOREA: Total number of earthquakes: 6, Largest earthquake: 1518-7-2\n",
      "NORWAY: Total number of earthquakes: 1, Largest earthquake: 1819-8-31\n",
      "PACIFIC OCEAN: Total number of earthquakes: 2, Largest earthquake: 1932-11-2\n",
      "PAKISTAN: Total number of earthquakes: 44, Largest earthquake: 1945-11-27\n",
      "PALAU: Total number of earthquakes: 1, Largest earthquake: 1914-10-23\n",
      "PANAMA: Total number of earthquakes: 20, Largest earthquake: 1882-9-7\n",
      "PAPUA NEW GUINEA: Total number of earthquakes: 93, Largest earthquake: 1919-5-6\n",
      "PERU: Total number of earthquakes: 153, Largest earthquake: 1716-2-6\n",
      "PHILIPPINES: Total number of earthquakes: 136, Largest earthquake: 1897-9-21\n",
      "POLAND: Total number of earthquakes: 7, Largest earthquake: 2004-9-21\n",
      "PORTUGAL: Total number of earthquakes: 8, Largest earthquake: -60\n",
      "ROMANIA: Total number of earthquakes: 13, Largest earthquake: 1977-3-4\n",
      "RUSSIA: Total number of earthquakes: 142, Largest earthquake: 1952-11-4\n",
      "RWANDA: Total number of earthquakes: 5, Largest earthquake: 2015-8-7\n",
      "SAINT LUCIA: Total number of earthquakes: 0, Largest earthquake: No data\n",
      "SAINT VINCENT AND THE GRENADINES: Total number of earthquakes: 0, Largest earthquake: No data\n",
      "SAMOA: Total number of earthquakes: 8, Largest earthquake: 1917-6-26\n",
      "SAUDI ARABIA: Total number of earthquakes: 3, Largest earthquake: 2009-5-19\n",
      "SERBIA: Total number of earthquakes: 10, Largest earthquake: 1922-3-24\n",
      "SIERRA LEONE: Total number of earthquakes: 1, Largest earthquake: 1795-5-20\n",
      "SLOVAKIA: Total number of earthquakes: 1, Largest earthquake: 2004-1-10\n",
      "SLOVENIA: Total number of earthquakes: 14, Largest earthquake: 1511-3-26\n",
      "SOLOMON ISLANDS: Total number of earthquakes: 61, Largest earthquake: 1977-4-21\n",
      "SOLOMON SEA: Total number of earthquakes: 2, Largest earthquake: 1895-3-6\n",
      "SOUTH AFRICA: Total number of earthquakes: 13, Largest earthquake: 1942-11-10\n",
      "SOUTH GEORGIA AND THE SOUTH SANDWICH ISLANDS: Total number of earthquakes: 7, Largest earthquake: 1929-6-27\n",
      "SOUTH KOREA: Total number of earthquakes: 20, Largest earthquake: 1643-7-25\n",
      "SOUTH SUDAN: Total number of earthquakes: 2, Largest earthquake: 1990-5-20\n",
      "SPAIN: Total number of earthquakes: 13, Largest earthquake: 881-5-26\n",
      "SRI LANKA: Total number of earthquakes: 0, Largest earthquake: No data\n",
      "SUDAN: Total number of earthquakes: 1, Largest earthquake: 1993-8-1\n",
      "SWITZERLAND: Total number of earthquakes: 4, Largest earthquake: 1601-9-18\n",
      "SYRIA: Total number of earthquakes: 3, Largest earthquake: 1202-5-20\n",
      "TAIWAN: Total number of earthquakes: 97, Largest earthquake: 1920-6-5\n",
      "TAJIKISTAN: Total number of earthquakes: 27, Largest earthquake: 1907-10-21\n",
      "TANZANIA: Total number of earthquakes: 8, Largest earthquake: 1910-12-13\n",
      "THAILAND: Total number of earthquakes: 3, Largest earthquake: 2014-5-5\n",
      "TOGO: Total number of earthquakes: 1, Largest earthquake: 1788\n",
      "TONGA: Total number of earthquakes: 20, Largest earthquake: 1919-4-30\n",
      "TRINIDAD AND TOBAGO: Total number of earthquakes: 6, Largest earthquake: 1888-1-10\n",
      "TUNISIA: Total number of earthquakes: 2, Largest earthquake: 1957-2-20\n",
      "TURKEY: Total number of earthquakes: 214, Largest earthquake: 1939-12-26\n",
      "TURKMENISTAN: Total number of earthquakes: 10, Largest earthquake: 1895-7-8\n",
      "UGANDA: Total number of earthquakes: 4, Largest earthquake: 1912-7-9\n",
      "UK: Total number of earthquakes: 7, Largest earthquake: 1580-4-6\n",
      "UK TERRITORY: Total number of earthquakes: 1, Largest earthquake: 1983-11-30\n",
      "UKRAINE: Total number of earthquakes: 12, Largest earthquake: 103\n",
      "URUGUAY: Total number of earthquakes: 0, Largest earthquake: No data\n",
      "USA: Total number of earthquakes: 223, Largest earthquake: 1964-3-28\n",
      "USA TERRITORY: Total number of earthquakes: 23, Largest earthquake: 1902-9-22\n",
      "UZBEKISTAN: Total number of earthquakes: 12, Largest earthquake: 1976-4-8\n",
      "VANUATU: Total number of earthquakes: 48, Largest earthquake: 1913-10-14\n",
      "VENEZUELA: Total number of earthquakes: 30, Largest earthquake: 1894-4-29\n",
      "VIETNAM: Total number of earthquakes: 5, Largest earthquake: 1935-11-1\n",
      "WALLIS AND FUTUNA (FRENCH TERRITORY): Total number of earthquakes: 1, Largest earthquake: 1993-3-12\n",
      "YEMEN: Total number of earthquakes: 3, Largest earthquake: 1982-12-13\n",
      "ZAMBIA: Total number of earthquakes: 1, Largest earthquake: 2017-2-24\n",
      "                              Country  CountEq\n",
      "0                               CHINA      589\n",
      "1                               JAPAN      351\n",
      "2                           INDONESIA      331\n",
      "3                                IRAN      259\n",
      "4                                 USA      223\n",
      "..                                ...      ...\n",
      "151                    CANARY ISLANDS        0\n",
      "152                         SRI LANKA        0\n",
      "153                           IRELAND        0\n",
      "154                           GRENADA        0\n",
      "155  SAINT VINCENT AND THE GRENADINES        0\n",
      "\n",
      "[156 rows x 2 columns]\n"
     ]
    }
   ],
   "source": [
    "#取出所有国家的一列\n",
    "Sig_Eqs_3=Sig_Eqs.groupby('Country')['Mag'].count().reset_index()\n",
    "Country=Sig_Eqs_3[\"Country\"]\n",
    "\n",
    "#计算地震数量\n",
    "CountEq_list=[]\n",
    "for i in Country:\n",
    "    CountEq_list.append( CountEq_LargestEq(i))\n",
    "    \n",
    "#拼接Country、CountEq-Date（顺序相同）\n",
    "Country_list=Country.tolist()\n",
    "Sig_Eqs_4=pd.DataFrame(Country_list, columns=['Country'])\n",
    "Sig_Eqs_5=pd.DataFrame(CountEq_list, columns=['CountEq'])\n",
    "Sig_Eqs_6= pd.concat([Sig_Eqs_4, Sig_Eqs_5],axis=1)\n",
    "\n",
    "#降序排序\n",
    "Sig_Eqs_CountEq=Sig_Eqs_6.sort_values(by='CountEq',ascending=[False]).reset_index(drop=True)\n",
    "print(Sig_Eqs_CountEq)"
   ]
  },
  {
   "cell_type": "code",
   "execution_count": 156,
   "id": "f279dc37",
   "metadata": {
    "scrolled": false
   },
   "outputs": [
    {
     "data": {
      "text/plain": [
       "'#def CountEq_LargestEq(Country_input)\\n#计算每个国家发生地震的总数\\nSig_Eqs_3=Sig_Eqs.groupby(\\'Country\\')[\\'Mag\\'].count().reset_index()\\nSig_Eqs_3.rename(columns={\"Mag\": \"CountEq\"}, inplace=True)\\n\\n#计算每个国家发生地震的最大级\\nSig_Eqs_4=Sig_Eqs.groupby(\\'Country\\')[\\'Mag\\'].max().reset_index()\\nSig_Eqs_4.rename(columns={\"Mag\": \"LargestEq\"}, inplace=True)\\n\\n#提取最大值，放入Sig_Eqs_3最后一列\\nLargestEq=Sig_Eqs_4[\"LargestEq\"]\\nSig_Eqs_3.insert(loc=2, column=\\'LargestEq\\', value=LargestEq)  \\n\\n#按地震发生数量降序重新排序，并去掉原索引\\nSig_Eqs_3=Sig_Eqs_3.sort_values(by=\\'CountEq\\',ascending=[False]).reset_index(drop=True)\\nSig_Eqs_3'"
      ]
     },
     "execution_count": 156,
     "metadata": {},
     "output_type": "execute_result"
    }
   ],
   "source": [
    "#1.3的草稿（缺函数、缺最大值的日期）\n",
    "'''#def CountEq_LargestEq(Country_input)\n",
    "#计算每个国家发生地震的总数\n",
    "Sig_Eqs_3=Sig_Eqs.groupby('Country')['Mag'].count().reset_index()\n",
    "Sig_Eqs_3.rename(columns={\"Mag\": \"CountEq\"}, inplace=True)\n",
    "\n",
    "#计算每个国家发生地震的最大级\n",
    "Sig_Eqs_4=Sig_Eqs.groupby('Country')['Mag'].max().reset_index()\n",
    "Sig_Eqs_4.rename(columns={\"Mag\": \"LargestEq\"}, inplace=True)\n",
    "\n",
    "#提取最大值，放入Sig_Eqs_3最后一列\n",
    "LargestEq=Sig_Eqs_4[\"LargestEq\"]\n",
    "Sig_Eqs_3.insert(loc=2, column='LargestEq', value=LargestEq)  \n",
    "\n",
    "#按地震发生数量降序重新排序，并去掉原索引\n",
    "Sig_Eqs_3=Sig_Eqs_3.sort_values(by='CountEq',ascending=[False]).reset_index(drop=True)\n",
    "Sig_Eqs_3'''"
   ]
  },
  {
   "cell_type": "code",
   "execution_count": 157,
   "id": "98b87441",
   "metadata": {},
   "outputs": [
    {
     "name": "stderr",
     "output_type": "stream",
     "text": [
      "D:\\anzhuang\\ANACONDA\\Temp\\ipykernel_10352\\3241900502.py:3: DtypeWarning: Columns (4,8,9,12,15,21,22,24,26,31,33,34) have mixed types. Specify dtype option on import or set low_memory=False.\n",
      "  Data = pd.read_csv(r\"D:\\ESE5023\\2281305\\2281305.csv\")\n"
     ]
    }
   ],
   "source": [
    "#2\n",
    "#读取数据\n",
    "Data = pd.read_csv(r\"D:\\ESE5023\\2281305\\2281305.csv\")"
   ]
  },
  {
   "cell_type": "code",
   "execution_count": 158,
   "id": "cca38647",
   "metadata": {},
   "outputs": [],
   "source": [
    "#日期取到月份（20XX-XX)\n",
    "Year_Month=Data[\"DATE\"].astype(str).str[:7]\n",
    "\n",
    "#分别取出WND列的type、speed、speed quality\n",
    "WIND_type=Data[\"WND\"].astype(str).str[6]\n",
    "WIND_speed=Data[\"WND\"].astype(str).str[8:12]\n",
    "WIND_speed_quality=Data[\"WND\"].astype(str).str[13]\n",
    "\n",
    "#把需要用到的4列数据重新组成一个dataframe，重命名每列\n",
    "WIND_data=pd.concat([Year_Month,WIND_type,WIND_speed,WIND_speed_quality], axis=1)\n",
    "WIND_data.columns = ['DATE_Year_Month', 'WIND_type', 'WIND_speed','WIND_speed_quality']\n",
    "\n",
    "#数据筛选，WIND_type=9（Missing），WIND_speed=9999（Missing），WIND_speed_quality=1（Passed all quality control checks）\n",
    "WIND_data_select=WIND_data.loc[(WIND_data[\"WIND_type\"]!=\"9\")&(WIND_data[\"WIND_speed\"]!=\"9999\")&(WIND_data[\"WIND_speed_quality\"]==\"1\")]"
   ]
  },
  {
   "cell_type": "code",
   "execution_count": 159,
   "id": "e42cd858",
   "metadata": {},
   "outputs": [
    {
     "name": "stderr",
     "output_type": "stream",
     "text": [
      "D:\\anzhuang\\ANACONDA\\Temp\\ipykernel_10352\\1583423158.py:3: SettingWithCopyWarning: \n",
      "A value is trying to be set on a copy of a slice from a DataFrame.\n",
      "Try using .loc[row_indexer,col_indexer] = value instead\n",
      "\n",
      "See the caveats in the documentation: https://pandas.pydata.org/pandas-docs/stable/user_guide/indexing.html#returning-a-view-versus-a-copy\n",
      "  WIND_data_select_1['WIND_speed']=WIND_data_select_1['WIND_speed'].astype(float)\n",
      "D:\\anzhuang\\ANACONDA\\Temp\\ipykernel_10352\\1583423158.py:6: SettingWithCopyWarning: \n",
      "A value is trying to be set on a copy of a slice from a DataFrame.\n",
      "Try using .loc[row_indexer,col_indexer] = value instead\n",
      "\n",
      "See the caveats in the documentation: https://pandas.pydata.org/pandas-docs/stable/user_guide/indexing.html#returning-a-view-versus-a-copy\n",
      "  WIND_data_select_1['WIND_speed']=WIND_data_select_1['WIND_speed']/10\n"
     ]
    }
   ],
   "source": [
    "#风速变成小数点格式\n",
    "WIND_data_select_1=WIND_data_select\n",
    "WIND_data_select_1['WIND_speed']=WIND_data_select_1['WIND_speed'].astype(float)\n",
    "\n",
    "#缩放因子 SCALING FACTOR=10，风速转换为m/s\n",
    "WIND_data_select_1['WIND_speed']=WIND_data_select_1['WIND_speed']/10"
   ]
  },
  {
   "cell_type": "code",
   "execution_count": 160,
   "id": "989089aa",
   "metadata": {},
   "outputs": [],
   "source": [
    "#按月份分组求平均\n",
    "WIND_data_select_1=WIND_data_select.groupby('DATE_Year_Month')['WIND_speed'].mean().reset_index()\n",
    "#WIND_data_select_1"
   ]
  },
  {
   "cell_type": "code",
   "execution_count": 161,
   "id": "db5fd384",
   "metadata": {},
   "outputs": [
    {
     "data": {
      "text/plain": [
       "<Axes: xlabel='DATE_Year_Month'>"
      ]
     },
     "execution_count": 161,
     "metadata": {},
     "output_type": "execute_result"
    },
    {
     "data": {
      "image/png": "[encoded data removed]",
      "text/plain": [
       "<Figure size 640x480 with 1 Axes>"
      ]
     },
     "metadata": {},
     "output_type": "display_data"
    }
   ],
   "source": [
    "#画图，过去10年月均风速有缓慢上升的趋势\n",
    "WIND_data_select_1.plot('DATE_Year_Month','WIND_speed')"
   ]
  },
  {
   "cell_type": "code",
   "execution_count": 162,
   "id": "6010be51",
   "metadata": {
    "scrolled": true
   },
   "outputs": [
    {
     "name": "stderr",
     "output_type": "stream",
     "text": [
      "D:\\anzhuang\\ANACONDA\\Temp\\ipykernel_10352\\3250873878.py:3: DtypeWarning: Columns (34,35,39,40,51) have mixed types. Specify dtype option on import or set low_memory=False.\n",
      "  Data_3= pd.read_csv(r\"D:\\ESE5023\\LONG BEACH DAUGHERTY AIRPORT, CA US (72297023129).csv\")\n"
     ]
    }
   ],
   "source": [
    "#3\n",
    "#读取数据\n",
    "Data_3= pd.read_csv(r\"D:\\ESE5023\\LONG BEACH DAUGHERTY AIRPORT, CA US (72297023129).csv\")"
   ]
  },
  {
   "cell_type": "code",
   "execution_count": 163,
   "id": "1a63985d",
   "metadata": {
    "scrolled": true
   },
   "outputs": [],
   "source": [
    "#3.1\n",
    "# 删除包含缺失值的列\n",
    "Data_3_1=Data_3.dropna(axis='columns')\n",
    "\n",
    "#日期\n",
    "Month=Data_3_1[\"DATE\"].astype(str).str[:7]\n",
    "\n",
    "#分别取出TMP列的air temperature、air temperature quality\n",
    "air_temperature=Data_3_1[\"TMP\"].astype(str).str[0:5]\n",
    "air_temperature_quality=Data_3_1[\"TMP\"].astype(str).str[6]\n",
    "\n",
    "#把需要用到的3列数据重新组成一个dataframe，重命名每列\n",
    "air_temperature_data=pd.concat([Month,air_temperature,air_temperature_quality], axis=1)\n",
    "air_temperature_data.columns = [\"Month\",'air_temperature', 'air_temperature_quality']\n",
    "\n",
    "#数据筛选，air_temperature=+9999（Missing），air_temperature_quality=3（Erroneous）\n",
    "air_temperature_data=air_temperature_data.loc[(air_temperature_data[\"air_temperature\"]!=\"+9999\")&(air_temperature_data[\"air_temperature_quality\"]!=\"3\")]"
   ]
  },
  {
   "cell_type": "code",
   "execution_count": 164,
   "id": "785898ac",
   "metadata": {},
   "outputs": [
    {
     "data": {
      "text/plain": [
       "<Axes: xlabel='Month'>"
      ]
     },
     "execution_count": 164,
     "metadata": {},
     "output_type": "execute_result"
    },
    {
     "data": {
      "image/png": "[encoded data removed]",
      "text/plain": [
       "<Figure size 640x480 with 1 Axes>"
      ]
     },
     "metadata": {},
     "output_type": "display_data"
    }
   ],
   "source": [
    "#3.2 \n",
    "#温度变成小数点格式\n",
    "air_temperature_data['air_temperature']=air_temperature_data['air_temperature'].astype(float)\n",
    "\n",
    "#缩放因子 SCALING FACTOR=10，摄氏度\n",
    "air_temperature_data['air_temperature']=air_temperature_data['air_temperature']/10\n",
    "\n",
    "#日期-温度图\n",
    "air_temperature_data.plot('Month','air_temperature')"
   ]
  },
  {
   "cell_type": "code",
   "execution_count": 165,
   "id": "b0cf4ebe",
   "metadata": {
    "scrolled": false
   },
   "outputs": [
    {
     "data": {
      "text/html": [
       "<div>\n",
       "<style scoped>\n",
       "    .dataframe tbody tr th:only-of-type {\n",
       "        vertical-align: middle;\n",
       "    }\n",
       "\n",
       "    .dataframe tbody tr th {\n",
       "        vertical-align: top;\n",
       "    }\n",
       "\n",
       "    .dataframe thead th {\n",
       "        text-align: right;\n",
       "    }\n",
       "</style>\n",
       "<table border=\"1\" class=\"dataframe\">\n",
       "  <thead>\n",
       "    <tr style=\"text-align: right;\">\n",
       "      <th></th>\n",
       "      <th>Month</th>\n",
       "      <th>air_temperature</th>\n",
       "      <th>air_temperature_quality</th>\n",
       "    </tr>\n",
       "  </thead>\n",
       "  <tbody>\n",
       "    <tr>\n",
       "      <th>0</th>\n",
       "      <td>2019-01</td>\n",
       "      <td>16.1</td>\n",
       "      <td>1</td>\n",
       "    </tr>\n",
       "    <tr>\n",
       "      <th>1</th>\n",
       "      <td>2019-01</td>\n",
       "      <td>16.1</td>\n",
       "      <td>5</td>\n",
       "    </tr>\n",
       "    <tr>\n",
       "      <th>2</th>\n",
       "      <td>2019-01</td>\n",
       "      <td>15.6</td>\n",
       "      <td>5</td>\n",
       "    </tr>\n",
       "    <tr>\n",
       "      <th>3</th>\n",
       "      <td>2019-01</td>\n",
       "      <td>14.4</td>\n",
       "      <td>5</td>\n",
       "    </tr>\n",
       "    <tr>\n",
       "      <th>4</th>\n",
       "      <td>2019-01</td>\n",
       "      <td>13.9</td>\n",
       "      <td>5</td>\n",
       "    </tr>\n",
       "    <tr>\n",
       "      <th>...</th>\n",
       "      <td>...</td>\n",
       "      <td>...</td>\n",
       "      <td>...</td>\n",
       "    </tr>\n",
       "    <tr>\n",
       "      <th>12528</th>\n",
       "      <td>2019-12</td>\n",
       "      <td>20.0</td>\n",
       "      <td>5</td>\n",
       "    </tr>\n",
       "    <tr>\n",
       "      <th>12529</th>\n",
       "      <td>2019-12</td>\n",
       "      <td>21.1</td>\n",
       "      <td>5</td>\n",
       "    </tr>\n",
       "    <tr>\n",
       "      <th>12530</th>\n",
       "      <td>2019-12</td>\n",
       "      <td>21.7</td>\n",
       "      <td>5</td>\n",
       "    </tr>\n",
       "    <tr>\n",
       "      <th>12531</th>\n",
       "      <td>2019-12</td>\n",
       "      <td>22.2</td>\n",
       "      <td>5</td>\n",
       "    </tr>\n",
       "    <tr>\n",
       "      <th>12532</th>\n",
       "      <td>2019-12</td>\n",
       "      <td>22.2</td>\n",
       "      <td>5</td>\n",
       "    </tr>\n",
       "  </tbody>\n",
       "</table>\n",
       "<p>12154 rows × 3 columns</p>\n",
       "</div>"
      ],
      "text/plain": [
       "         Month  air_temperature air_temperature_quality\n",
       "0      2019-01             16.1                       1\n",
       "1      2019-01             16.1                       5\n",
       "2      2019-01             15.6                       5\n",
       "3      2019-01             14.4                       5\n",
       "4      2019-01             13.9                       5\n",
       "...        ...              ...                     ...\n",
       "12528  2019-12             20.0                       5\n",
       "12529  2019-12             21.1                       5\n",
       "12530  2019-12             21.7                       5\n",
       "12531  2019-12             22.2                       5\n",
       "12532  2019-12             22.2                       5\n",
       "\n",
       "[12154 rows x 3 columns]"
      ]
     },
     "execution_count": 165,
     "metadata": {},
     "output_type": "execute_result"
    }
   ],
   "source": [
    "air_temperature_data"
   ]
  },
  {
   "cell_type": "code",
   "execution_count": 166,
   "id": "9405f25c",
   "metadata": {},
   "outputs": [
    {
     "data": {
      "text/plain": [
       "17.659256211946683"
      ]
     },
     "execution_count": 166,
     "metadata": {},
     "output_type": "execute_result"
    }
   ],
   "source": [
    "#3.3\n",
    "#3.3.1 求平均温度\n",
    "air_temperature_data[\"air_temperature\"].mean()"
   ]
  },
  {
   "cell_type": "code",
   "execution_count": 167,
   "id": "9e173a74",
   "metadata": {},
   "outputs": [
    {
     "data": {
      "text/plain": [
       "5.112108137274478"
      ]
     },
     "execution_count": 167,
     "metadata": {},
     "output_type": "execute_result"
    }
   ],
   "source": [
    "#3.3.2 求温度标准差\n",
    "air_temperature_data[\"air_temperature\"].std()"
   ]
  },
  {
   "cell_type": "code",
   "execution_count": 168,
   "id": "0955175d",
   "metadata": {},
   "outputs": [
    {
     "data": {
      "text/plain": [
       "Month                      2019-02\n",
       "air_temperature               13.9\n",
       "air_temperature_quality          5\n",
       "Name: 1855, dtype: object"
      ]
     },
     "execution_count": 168,
     "metadata": {},
     "output_type": "execute_result"
    }
   ],
   "source": [
    "#3.3.3 求最低温度所在行的数据\n",
    "air_temperature_data.loc[air_temperature_data[\"air_temperature\"].argmin()]"
   ]
  },
  {
   "cell_type": "code",
   "execution_count": 169,
   "id": "7c4599d2",
   "metadata": {},
   "outputs": [
    {
     "data": {
      "text/plain": [
       "21.7"
      ]
     },
     "execution_count": 169,
     "metadata": {},
     "output_type": "execute_result"
    }
   ],
   "source": [
    "#3.3.4 随机取10天数据,求最高温度\n",
    "air_temperature_data.sample(n=10)[\"air_temperature\"].max()"
   ]
  },
  {
   "cell_type": "code",
   "execution_count": 170,
   "id": "a2013252",
   "metadata": {},
   "outputs": [
    {
     "data": {
      "text/plain": [
       "15.6    636\n",
       "16.7    540\n",
       "16.1    538\n",
       "15.0    528\n",
       "18.3    507\n",
       "       ... \n",
       "36.1      2\n",
       "29.0      1\n",
       "26.0      1\n",
       "8.0       1\n",
       "7.0       1\n",
       "Name: air_temperature, Length: 79, dtype: int64"
      ]
     },
     "execution_count": 170,
     "metadata": {},
     "output_type": "execute_result"
    }
   ],
   "source": [
    "#3.3.5 统计温度出现的次数\n",
    "air_temperature_data[\"air_temperature\"].value_counts()"
   ]
  },
  {
   "cell_type": "code",
   "execution_count": null,
   "id": "f390c692",
   "metadata": {},
   "outputs": [],
   "source": []
  }
 ],
 "metadata": {
  "kernelspec": {
   "display_name": "Python 3 (ipykernel)",
   "language": "python",
   "name": "python3"
  },
  "language_info": {
   "codemirror_mode": {
    "name": "ipython",
    "version": 3
   },
   "file_extension": ".py",
   "mimetype": "text/x-python",
   "name": "python",
   "nbconvert_exporter": "python",
   "pygments_lexer": "ipython3",
   "version": "3.11.4"
  }
 },
 "nbformat": 4,
 "nbformat_minor": 5
}
